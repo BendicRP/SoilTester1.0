{
 "cells": [
  {
   "cell_type": "code",
   "execution_count": 17,
   "metadata": {},
   "outputs": [
    {
     "ename": "SyntaxError",
     "evalue": "invalid syntax (<ipython-input-17-216fcfd82358>, line 1)",
     "output_type": "error",
     "traceback": [
      "\u001b[1;36m  File \u001b[1;32m\"<ipython-input-17-216fcfd82358>\"\u001b[1;36m, line \u001b[1;32m1\u001b[0m\n\u001b[1;33m    import '../MotorShield/PiMotor.py' as PiMotor\u001b[0m\n\u001b[1;37m                                     ^\u001b[0m\n\u001b[1;31mSyntaxError\u001b[0m\u001b[1;31m:\u001b[0m invalid syntax\n"
     ]
    }
   ],
   "source": [
    "import '../MotorShield/PiMotor.py' as PiMotor\n",
    "import time\n",
    "import RPi.GPIO as GPIO\n"
   ]
  },
  {
   "cell_type": "code",
   "execution_count": 4,
   "metadata": {},
   "outputs": [
    {
     "ename": "SyntaxError",
     "evalue": "invalid syntax (<ipython-input-4-45a59c25d2e2>, line 1)",
     "output_type": "error",
     "traceback": [
      "\u001b[1;36m  File \u001b[1;32m\"<ipython-input-4-45a59c25d2e2>\"\u001b[1;36m, line \u001b[1;32m1\u001b[0m\n\u001b[1;33m    import '../Motorshield/PiMotor.py' as PiMotor\u001b[0m\n\u001b[1;37m                                     ^\u001b[0m\n\u001b[1;31mSyntaxError\u001b[0m\u001b[1;31m:\u001b[0m invalid syntax\n"
     ]
    }
   ],
   "source": [
    "\n",
    "GPIO.setwarnings(False)\n",
    "\n",
    "TRIG = 29\n",
    "ECHO = 31\n",
    "\n",
    "GPIO.setup(TRIG,GPIO.OUT)\n",
    "GPIO.setup(ECHO,GPIO.IN)\n",
    "\n",
    "m1 = PiMotor.Motor(\"MOTOR1\",1)\n",
    "m2 = PiMotor.Motor(\"MOTOR2\",1)\n",
    "#To drive all motors together\n",
    "motorAll = PiMotor.LinkedMotors(m1,m2)\n",
    "\n",
    "\n",
    "def stop():\n",
    "    print(\"Robot Stop \")\n",
    "    al.off()\n",
    "    af.off()\n",
    "    ar.off()\n",
    "    motorAll.stop()\n",
    "    time.sleep(2)\n",
    "\n",
    "def forward():\n",
    "    print(\"Robot Moving Forward \")\n",
    "    af.on()\n",
    "    motorAll.forward(100)\n",
    "    time.sleep(2)\n",
    "\n",
    "def back():\n",
    "    print(\"Robot Moving Backward \")\n",
    "    af.off()\n",
    "    ab.on()\n",
    "    motorAll.reverse(100)\n",
    "    time.sleep(2)\n",
    "\n",
    "def left():\n",
    "    print(\"Robot Moving Left \")\n",
    "    ab.off()\n",
    "    al.on()\n",
    "    m1.stop()\n",
    "    m2.stop()\n",
    "    m3.forward(100)\n",
    "    m4.forward(100)\n",
    "    time.sleep(2)\n",
    "\n",
    "def right():\n",
    "    print(\"Robot Moving Right \")\n",
    "    ar.on()\n",
    "    al.off()\n",
    "    m1.forward(100)\n",
    "    m2.forward(100)\n",
    "    m3.stop()\n",
    "    m4.stop()\n",
    "    time.sleep(2)"
   ]
  },
  {
   "cell_type": "code",
   "execution_count": null,
   "metadata": {},
   "outputs": [],
   "source": []
  },
  {
   "cell_type": "code",
   "execution_count": null,
   "metadata": {},
   "outputs": [],
   "source": []
  }
 ],
 "metadata": {
  "kernelspec": {
   "display_name": "Python 3",
   "language": "python",
   "name": "python3"
  },
  "language_info": {
   "codemirror_mode": {
    "name": "ipython",
    "version": 3
   },
   "file_extension": ".py",
   "mimetype": "text/x-python",
   "name": "python",
   "nbconvert_exporter": "python",
   "pygments_lexer": "ipython3",
   "version": "3.7.1"
  }
 },
 "nbformat": 4,
 "nbformat_minor": 2
}
