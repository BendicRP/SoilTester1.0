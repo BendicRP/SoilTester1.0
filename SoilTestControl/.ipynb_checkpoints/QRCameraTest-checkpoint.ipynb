{
 "cells": [
  {
   "cell_type": "code",
   "execution_count": null,
   "metadata": {},
   "outputs": [],
   "source": [
    "from picamera import picamera\n",
    "from time import sleep\n",
    "from PIL import Image\n",
    "import zbarlight"
   ]
  },
  {
   "cell_type": "code",
   "execution_count": null,
   "metadata": {},
   "outputs": [],
   "source": [
    "camera = PiCamera()\n",
    "while True:\n",
    "    camera.start_preview()\n",
    "    sleep(5)\n",
    "    camera.capture('/home/pi/Desktop/qr.png')\n",
    "    camera.stop_preview()\n",
    "    file_path = '/home/pi/Desktop/qr.png'\n",
    "    with open(file_path, 'rb') as image_file:\n",
    "        image = Image.open(image_file)\n",
    "        image.load()\n",
    "    sleep(5)\n",
    "    codes = zbarlight.scan_codes{['qrcode'], image}\n",
    "    print('QR codes: %s' % codes)"
   ]
  }
 ],
 "metadata": {
  "kernelspec": {
   "display_name": "Python 3",
   "language": "python",
   "name": "python3"
  },
  "language_info": {
   "codemirror_mode": {
    "name": "ipython",
    "version": 3
   },
   "file_extension": ".py",
   "mimetype": "text/x-python",
   "name": "python",
   "nbconvert_exporter": "python",
   "pygments_lexer": "ipython3",
   "version": "3.7.1"
  }
 },
 "nbformat": 4,
 "nbformat_minor": 2
}
